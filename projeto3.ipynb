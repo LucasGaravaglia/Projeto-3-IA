{
 "cells": [
  {
   "cell_type": "markdown",
   "metadata": {},
   "source": [
    "Terceiro projeto de Inteligência artificial\n",
    "\n",
    "Alunos: Lucas Garavaglia, Milena Santos\n",
    "\n",
    "Link: https://archive.ics.uci.edu/ml/datasets/Early+stage+diabetes+risk+prediction+dataset."
   ]
  },
  {
   "cell_type": "markdown",
   "metadata": {},
   "source": [
    "## imports necessários"
   ]
  },
  {
   "cell_type": "code",
   "execution_count": 318,
   "metadata": {},
   "outputs": [],
   "source": [
    "import pandas as pd\n",
    "import matplotlib.pyplot as plt\n",
    "import numpy as np\n",
    "\n",
    "from sklearn.tree import DecisionTreeClassifier\n",
    "from sklearn.ensemble import RandomForestClassifier\n",
    "from sklearn.neighbors import KNeighborsClassifier\n",
    "from sklearn.model_selection import train_test_split\n",
    "\n",
    "from sklearn.model_selection import cross_val_score\n",
    "\n",
    "from sklearn.feature_selection import RFE\n",
    "\n",
    "from sklearn.preprocessing import MinMaxScaler\n",
    "from sklearn.metrics import accuracy_score, confusion_matrix\n",
    "import seaborn as sns"
   ]
  },
  {
   "cell_type": "markdown",
   "metadata": {},
   "source": [
    "#### Carregamento do Dataset"
   ]
  },
  {
   "cell_type": "code",
   "execution_count": 275,
   "metadata": {},
   "outputs": [],
   "source": [
    "init_dataset = pd.read_csv(\"https://archive.ics.uci.edu/ml/machine-learning-databases/00529/diabetes_data_upload.csv\")\n",
    "# dataset.info()\n",
    "dataset = init_dataset.copy()"
   ]
  },
  {
   "cell_type": "markdown",
   "metadata": {},
   "source": [
    "Identificação de outliers"
   ]
  },
  {
   "cell_type": "markdown",
   "metadata": {},
   "source": [
    "#### Pré processamento"
   ]
  },
  {
   "cell_type": "code",
   "execution_count": 192,
   "metadata": {},
   "outputs": [
    {
     "data": {
      "text/plain": [
       "<AxesSubplot:xlabel='Age'>"
      ]
     },
     "execution_count": 192,
     "metadata": {},
     "output_type": "execute_result"
    },
    {
     "data": {
      "image/png": "[encoded data removed]",
      "text/plain": [
       "<Figure size 432x288 with 1 Axes>"
      ]
     },
     "metadata": {
      "needs_background": "light"
     },
     "output_type": "display_data"
    }
   ],
   "source": [
    "sns.boxplot(x=init_dataset['Age'])"
   ]
  },
  {
   "cell_type": "markdown",
   "metadata": {},
   "source": [
    "Remoção de valores faltantes e dados duplicados."
   ]
  },
  {
   "cell_type": "code",
   "execution_count": 283,
   "metadata": {},
   "outputs": [],
   "source": [
    "dataset = dataset.dropna() #Fazendo uma observação do dataset foi notado que não \n",
    "                                #existem valores nulos, portanto esse método não esta fazendo nada.\n",
    "                        \n",
    "# dataset = dataset.drop_duplicates() \n",
    "#Após a remoção dos valores duplicados foi notado que a acurácia dos modelos cairam,\n",
    "#plotando um gráfico de proporção foi notado também que os dados estão desbalanceados,\n",
    "#portanto fio optado por não remover os duplicados a fim de manter o dataset balanceado.\n",
    "\n",
    "indxs = []\n",
    "for index,x in enumerate(dataset['Age']):\n",
    "    if(x < 20 or x > 65):\n",
    "        indxs.append(index)\n",
    "        \n",
    "dataset.drop(indxs,axis=0,inplace=True)\n",
    "\n",
    "dataset.reset_index(inplace=True, drop=True)"
   ]
  },
  {
   "cell_type": "code",
   "execution_count": 226,
   "metadata": {},
   "outputs": [],
   "source": [
    "def proportionDataset(dataset):\n",
    "    target_count = dataset[\"class\"].value_counts()\n",
    "    t1 = str(round(target_count[1]*100/len(dataset),1)) + \"%\"\n",
    "    t2 = str(round(target_count[0]*100/len(dataset),1)) + \"%\"\n",
    "    print('Class 0:', target_count[0])\n",
    "    print('Class 1:', target_count[1])\n",
    "    print('Proporção:', round(target_count[1] / target_count[0], 2), ': 1')\n",
    "    plt.bar([t1, t2], target_count,color = ['#1F77B4', '#FF7F0E'])\n",
    "    # target_count.plot(kind='bar', title='Count (target)',color = ['#1F77B4', '#FF7F0E']);\n"
   ]
  },
  {
   "cell_type": "code",
   "execution_count": 227,
   "metadata": {},
   "outputs": [
    {
     "name": "stdout",
     "output_type": "stream",
     "text": [
      "Class 0: 184\n",
      "Class 1: 284\n",
      "Proporção: 1.54 : 1\n"
     ]
    },
    {
     "data": {
      "image/png": "[encoded data removed]",
      "text/plain": [
       "<Figure size 432x288 with 1 Axes>"
      ]
     },
     "metadata": {
      "needs_background": "light"
     },
     "output_type": "display_data"
    }
   ],
   "source": [
    "proportionDataset(dataset)\n",
    "# proportionDataset(init_dataset)"
   ]
  },
  {
   "cell_type": "markdown",
   "metadata": {},
   "source": [
    "#### Foi necessário a conversão dos dados para boolean poís a biblioteca não aceita tipo str"
   ]
  },
  {
   "cell_type": "code",
   "execution_count": 281,
   "metadata": {},
   "outputs": [],
   "source": [
    "dataset['class'] = [1 if x == 'Positive' else 0 for x in dataset['class']]\n",
    "dataset['Gender'] = [1 if x == 'Male' else 0 for x in dataset['Gender']]\n",
    "dataset['Polyuria'] = [1 if x == 'Yes' else 0 for x in dataset['Polyuria']]\n",
    "dataset['Polydipsia'] = [1 if x == 'Yes' else 0 for x in dataset['Polydipsia']]\n",
    "dataset['weakness'] = [1 if x == 'Yes' else 0 for x in dataset['weakness']]\n",
    "dataset['Polyphagia'] = [1 if x == 'Yes' else 0 for x in dataset['Polyphagia']]\n",
    "dataset['Itching'] = [1 if x == 'Yes' else 0 for x in dataset['Itching']]\n",
    "dataset['Irritability'] = [1 if x == 'Yes' else 0 for x in dataset['Irritability']]\n",
    "dataset['Alopecia'] = [1 if x == 'Yes' else 0 for x in dataset['Alopecia']]\n",
    "dataset['Obesity'] = [1 if x == 'Yes' else 0 for x in dataset['Obesity']]\n",
    "dataset['delayed healing'] = [1 if x == 'Yes' else 0 for x in dataset['delayed healing']]\n",
    "dataset['partial paresis'] = [1 if x == 'Yes' else 0 for x in dataset['partial paresis']]\n",
    "dataset['muscle stiffness'] = [1 if x == 'Yes' else 0 for x in dataset['muscle stiffness']]\n",
    "dataset['Genital thrush'] = [1 if x == 'Yes' else 0 for x in dataset['Genital thrush']]\n",
    "dataset['visual blurring'] = [1 if x == 'Yes' else 0 for x in dataset['visual blurring']]\n",
    "dataset['sudden weight loss'] = [1 if x == 'Yes' else 0 for x in dataset['sudden weight loss']]\n",
    "\n",
    "cv_dataset = dataset.copy()"
   ]
  },
  {
   "cell_type": "code",
   "execution_count": 252,
   "metadata": {},
   "outputs": [],
   "source": [
    "def confusionMatrix(y_test,y_pred):\n",
    "    cm = confusion_matrix(y_true=y_test, y_pred=y_pred)\n",
    "    print('Confusion matrix:\\n', cm)\n",
    "    return cm\n",
    "\n",
    "def showConfusionMatrix(y_test,y_pred):\n",
    "    conf_mat = confusionMatrix(y_test,y_pred)\n",
    "    fig = plt.figure()\n",
    "    ax = fig.add_subplot(111)\n",
    "    cax = ax.matshow(conf_mat, cmap=plt.cm.Blues)\n",
    "    fig.colorbar(cax)\n",
    "    plt.xlabel('Predicted')\n",
    "    plt.ylabel('Expected')\n",
    "    plt.show()"
   ]
  },
  {
   "cell_type": "code",
   "execution_count": 266,
   "metadata": {},
   "outputs": [],
   "source": [
    "def treeDecision(X_train, y_train):\n",
    "    \"\"\"\n",
    "    Função que cria um árvore de decisão e retorna o modelo treinado.\n",
    "    \"\"\"\n",
    "    model = DecisionTreeClassifier()\n",
    "    model.fit(X_train, y_train)\n",
    "    return model"
   ]
  },
  {
   "cell_type": "code",
   "execution_count": 267,
   "metadata": {},
   "outputs": [],
   "source": [
    "def RForestDecision(X_train,  y_train):\n",
    "    \"\"\"\n",
    "    Função que cria um classificador Random Florest e retorna o modelo treinado.\n",
    "    \"\"\"\n",
    "    model = RandomForestClassifier()\n",
    "    model.fit(X_train, y_train)\n",
    "    return model"
   ]
  },
  {
   "cell_type": "code",
   "execution_count": 268,
   "metadata": {},
   "outputs": [],
   "source": [
    "def KNN(X_train,  y_train):\n",
    "    \"\"\"\n",
    "    Função que cria um classificador knn e retorna o modelo treinado.\n",
    "    \"\"\"\n",
    "    model = KNeighborsClassifier()\n",
    "    model.fit(X_train, y_train)\n",
    "    return model"
   ]
  },
  {
   "cell_type": "markdown",
   "metadata": {},
   "source": [
    "Separação dos dados para treino e test"
   ]
  },
  {
   "cell_type": "code",
   "execution_count": 284,
   "metadata": {},
   "outputs": [],
   "source": [
    "X_train, X_test, y_train, y_test = train_test_split(dataset.drop([\"class\"], axis=1), dataset[\"class\"], test_size=0.3)"
   ]
  },
  {
   "cell_type": "markdown",
   "metadata": {},
   "source": [
    "#### seleção de atributos"
   ]
  },
  {
   "cell_type": "code",
   "execution_count": 285,
   "metadata": {},
   "outputs": [],
   "source": [
    "clf = DecisionTreeClassifier(max_leaf_nodes=10)\n",
    "feature_selection = RFE(clf, step=1)\n",
    "fs = feature_selection.fit(X_train, y_train)\n",
    "\n",
    "attributes_selected = []\n",
    "for index,i in enumerate(dataset.columns.drop([\"class\"])):\n",
    "    if(fs.support_[index] == False):\n",
    "        attributes_selected.append(i)\n",
    "\n",
    "dataset_selected_attributes = dataset.drop(attributes_selected, axis=1).copy()"
   ]
  },
  {
   "cell_type": "code",
   "execution_count": 286,
   "metadata": {},
   "outputs": [],
   "source": [
    "X_train_select_attr, X_test_select_attr, y_train_select_attr, y_test_select_attr = train_test_split(dataset_selected_attributes.drop([\"class\"], axis=1), dataset_selected_attributes[\"class\"], test_size=0.3)\n",
    "X_train_no_pre_pros, X_test_no_pre_pros, y_train_no_pre_pros, y_test_no_pre_pros = train_test_split(cv_dataset.drop([\"class\"], axis=1), cv_dataset[\"class\"], test_size=0.3)"
   ]
  },
  {
   "cell_type": "code",
   "execution_count": 287,
   "metadata": {},
   "outputs": [],
   "source": [
    "model_TD  = treeDecision(X_train, y_train)\n",
    "model_RF  = RForestDecision(X_train, y_train)\n",
    "model_KNN = KNN(X_train, y_train)"
   ]
  },
  {
   "cell_type": "code",
   "execution_count": 288,
   "metadata": {},
   "outputs": [],
   "source": [
    "model_TD_select_attr  = treeDecision(X_train_select_attr, y_train_select_attr)\n",
    "model_RF_select_attr  = RForestDecision(X_train_select_attr, y_train_select_attr)\n",
    "model_KNN_select_attr = KNN(X_train_select_attr, y_train_select_attr)"
   ]
  },
  {
   "cell_type": "code",
   "execution_count": 289,
   "metadata": {},
   "outputs": [],
   "source": [
    "model_TD_no_pre_pros  = treeDecision(X_train_no_pre_pros, y_train_no_pre_pros)\n",
    "model_RF_no_pre_pros  = RForestDecision(X_train_no_pre_pros, y_train_no_pre_pros)\n",
    "model_KNN_no_pre_pros = KNN(X_train_no_pre_pros, y_train_no_pre_pros)"
   ]
  },
  {
   "cell_type": "code",
   "execution_count": 324,
   "metadata": {},
   "outputs": [
    {
     "name": "stdout",
     "output_type": "stream",
     "text": [
      "Média de acurácia: 0.9563054695562435, desvio padrão : 0.028941589794240316\n",
      "Média de acurácia: 0.9150326797385622, desvio padrão : 0.06280770297225247\n",
      "Média de acurácia: 0.9475, desvio padrão : 0.10179295435124947\n"
     ]
    }
   ],
   "source": [
    "TD_acc_select_attr = cross_val_score(model_TD_select_attr, X_test_select_attr, y_test_select_attr, cv=10,scoring=\"f1\")\n",
    "TD_acc = cross_val_score(model_TD, X_test, y_test, cv=10,scoring=\"f1\")\n",
    "TD_acc_no_pre_pros = cross_val_score(model_TD_no_pre_pros, X_test_no_pre_pros, y_test_no_pre_pros, cv=10,scoring=\"f1\")\n",
    "\n",
    "print(\"Média de acurácia: {}, desvio padrão : {}\".format(TD_acc_select_attr.mean(),np.std(TD_acc_select_attr)))\n",
    "print(\"Média de acurácia: {}, desvio padrão : {}\".format(TD_acc.mean(),np.std(TD_acc)))\n",
    "print(\"Média de acurácia: {}, desvio padrão : {}\".format(TD_acc_no_pre_pros.mean(),np.std(TD_acc_no_pre_pros)))"
   ]
  },
  {
   "cell_type": "code",
   "execution_count": 323,
   "metadata": {},
   "outputs": [
    {
     "name": "stdout",
     "output_type": "stream",
     "text": [
      "Média de acurácia: 0.9755211558307535, desvio padrão : 0.030210993835384\n",
      "Média de acurácia: 0.9696878224974201, desvio padrão : 0.0413659934123612\n",
      "Média de acurácia: 0.9477073906485671, desvio padrão : 0.0694682405444045\n"
     ]
    }
   ],
   "source": [
    "RF_acc_select_attr = cross_val_score(model_RF_select_attr, X_test_select_attr, y_test_select_attr, cv=10,scoring=\"f1\")\n",
    "RF_acc = cross_val_score(model_RF, X_test, y_test, cv=10,scoring=\"f1\")\n",
    "RF_acc_no_pre_pros = cross_val_score(model_RF_no_pre_pros, X_test_no_pre_pros, y_test_no_pre_pros, cv=10,scoring=\"f1\")\n",
    "\n",
    "print(\"Média de acurácia: {}, desvio padrão : {}\".format(RF_acc_select_attr.mean(),np.std(RF_acc_select_attr)))\n",
    "print(\"Média de acurácia: {}, desvio padrão : {}\".format(RF_acc.mean(),np.std(RF_acc)))\n",
    "print(\"Média de acurácia: {}, desvio padrão : {}\".format(RF_acc_no_pre_pros.mean(),np.std(RF_acc_no_pre_pros)))"
   ]
  },
  {
   "cell_type": "code",
   "execution_count": 322,
   "metadata": {},
   "outputs": [
    {
     "name": "stdout",
     "output_type": "stream",
     "text": [
      "Média de acurácia: 0.945359477124183, desvio padrão : 0.031086935188402207\n",
      "Média de acurácia: 0.8774953314659196, desvio padrão : 0.09292825998136064\n",
      "Média de acurácia: 0.7800488400488401, desvio padrão : 0.12538616288026508\n"
     ]
    }
   ],
   "source": [
    "knn_acc_select_attr = cross_val_score(model_KNN_select_attr, X_test_select_attr, y_test_select_attr, cv=10,scoring=\"f1\")\n",
    "knn_acc = cross_val_score(model_KNN, X_test, y_test, cv=10,scoring=\"f1\")\n",
    "knn_acc_no_pre_pros = cross_val_score(model_KNN_no_pre_pros, X_test_no_pre_pros, y_test_no_pre_pros, cv=10,scoring=\"f1\")\n",
    "\n",
    "print(\"Média de acurácia: {}, desvio padrão : {}\".format(knn_acc_select_attr.mean(),np.std(knn_acc_select_attr)))\n",
    "print(\"Média de acurácia: {}, desvio padrão : {}\".format(knn_acc.mean(),np.std(knn_acc)))\n",
    "print(\"Média de acurácia: {}, desvio padrão : {}\".format(knn_acc_no_pre_pros.mean(),np.std(knn_acc_no_pre_pros)))"
   ]
  }
 ],
 "metadata": {
  "interpreter": {
   "hash": "e7370f93d1d0cde622a1f8e1c04877d8463912d04d973331ad4851f04de6915a"
  },
  "kernelspec": {
   "display_name": "Python 3.10.2 64-bit",
   "language": "python",
   "name": "python3"
  },
  "language_info": {
   "codemirror_mode": {
    "name": "ipython",
    "version": 3
   },
   "file_extension": ".py",
   "mimetype": "text/x-python",
   "name": "python",
   "nbconvert_exporter": "python",
   "pygments_lexer": "ipython3",
   "version": "3.10.5"
  },
  "orig_nbformat": 4
 },
 "nbformat": 4,
 "nbformat_minor": 2
}
