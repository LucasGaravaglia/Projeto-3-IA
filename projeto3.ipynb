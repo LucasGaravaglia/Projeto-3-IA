{
 "cells": [
  {
   "cell_type": "markdown",
   "metadata": {},
   "source": [
    "Terceiro projeto de Inteligência artificial\n",
    "\n",
    "Alunos: Lucas Garavaglia, Milena Santos\n",
    "\n",
    "Link: https://archive.ics.uci.edu/ml/datasets/Early+stage+diabetes+risk+prediction+dataset."
   ]
  },
  {
   "cell_type": "markdown",
   "metadata": {},
   "source": [
    "## imports necessários"
   ]
  },
  {
   "cell_type": "code",
   "execution_count": 1,
   "metadata": {},
   "outputs": [],
   "source": [
    "import pandas as pd\n",
    "import matplotlib.pyplot as plt\n",
    "import numpy as np\n",
    "\n",
    "from sklearn.tree import DecisionTreeClassifier\n",
    "from sklearn.ensemble import RandomForestClassifier\n",
    "from sklearn.neighbors import KNeighborsClassifier\n",
    "from sklearn.model_selection import train_test_split\n",
    "from sklearn.model_selection import cross_val_score\n",
    "from sklearn.feature_selection import RFE\n",
    "\n",
    "from sklearn.preprocessing import MinMaxScaler\n",
    "from sklearn.metrics import accuracy_score, confusion_matrix\n",
    "import seaborn as sns\n",
    "import scikit_posthocs as sp\n",
    "from scipy import stats"
   ]
  },
  {
   "cell_type": "markdown",
   "metadata": {},
   "source": [
    "#### Carregamento do Dataset"
   ]
  },
  {
   "cell_type": "code",
   "execution_count": 2,
   "metadata": {},
   "outputs": [],
   "source": [
    "init_dataset = pd.read_csv(\"https://archive.ics.uci.edu/ml/machine-learning-databases/00529/diabetes_data_upload.csv\")\n",
    "# dataset.info()\n",
    "dataset = init_dataset.copy()"
   ]
  },
  {
   "cell_type": "markdown",
   "metadata": {},
   "source": [
    "Identificação de outliers"
   ]
  },
  {
   "cell_type": "markdown",
   "metadata": {},
   "source": [
    "#### Pré processamento"
   ]
  },
  {
   "cell_type": "markdown",
   "metadata": {},
   "source": [
    "#### Foi necessário a conversão dos dados para boolean poís a biblioteca não aceita tipo str"
   ]
  },
  {
   "cell_type": "code",
   "execution_count": 3,
   "metadata": {},
   "outputs": [],
   "source": [
    "dataset['class'] = [1 if x == 'Positive' else 0 for x in dataset['class']]\n",
    "dataset['Gender'] = [1 if x == 'Male' else 0 for x in dataset['Gender']]\n",
    "dataset['Polyuria'] = [1 if x == 'Yes' else 0 for x in dataset['Polyuria']]\n",
    "dataset['Polydipsia'] = [1 if x == 'Yes' else 0 for x in dataset['Polydipsia']]\n",
    "dataset['weakness'] = [1 if x == 'Yes' else 0 for x in dataset['weakness']]\n",
    "dataset['Polyphagia'] = [1 if x == 'Yes' else 0 for x in dataset['Polyphagia']]\n",
    "dataset['Itching'] = [1 if x == 'Yes' else 0 for x in dataset['Itching']]\n",
    "dataset['Irritability'] = [1 if x == 'Yes' else 0 for x in dataset['Irritability']]\n",
    "dataset['Alopecia'] = [1 if x == 'Yes' else 0 for x in dataset['Alopecia']]\n",
    "dataset['Obesity'] = [1 if x == 'Yes' else 0 for x in dataset['Obesity']]\n",
    "dataset['delayed healing'] = [1 if x == 'Yes' else 0 for x in dataset['delayed healing']]\n",
    "dataset['partial paresis'] = [1 if x == 'Yes' else 0 for x in dataset['partial paresis']]\n",
    "dataset['muscle stiffness'] = [1 if x == 'Yes' else 0 for x in dataset['muscle stiffness']]\n",
    "dataset['Genital thrush'] = [1 if x == 'Yes' else 0 for x in dataset['Genital thrush']]\n",
    "dataset['visual blurring'] = [1 if x == 'Yes' else 0 for x in dataset['visual blurring']]\n",
    "dataset['sudden weight loss'] = [1 if x == 'Yes' else 0 for x in dataset['sudden weight loss']]\n",
    "\n",
    "cv_dataset = dataset.copy()"
   ]
  },
  {
   "cell_type": "code",
   "execution_count": 4,
   "metadata": {},
   "outputs": [
    {
     "data": {
      "text/plain": [
       "<AxesSubplot:xlabel='Age'>"
      ]
     },
     "execution_count": 4,
     "metadata": {},
     "output_type": "execute_result"
    },
    {
     "data": {
      "image/png": "[encoded data removed]",
      "text/plain": [
       "<Figure size 432x288 with 1 Axes>"
      ]
     },
     "metadata": {
      "needs_background": "light"
     },
     "output_type": "display_data"
    }
   ],
   "source": [
    "sns.boxplot(x=init_dataset['Age'])"
   ]
  },
  {
   "cell_type": "markdown",
   "metadata": {},
   "source": [
    "Remoção de valores faltantes e dados duplicados."
   ]
  },
  {
   "cell_type": "code",
   "execution_count": 5,
   "metadata": {},
   "outputs": [],
   "source": [
    "dataset = dataset.dropna() \n",
    "\n",
    "# dataset = dataset.drop_duplicates() \n",
    "\n",
    "indxs = []\n",
    "for index,x in enumerate(dataset['Age']):\n",
    "    if(x < 20 or x > 65):\n",
    "        indxs.append(index)\n",
    "        \n",
    "dataset.drop(indxs,axis=0,inplace=True)\n",
    "\n",
    "dataset.reset_index(inplace=True, drop=True)"
   ]
  },
  {
   "cell_type": "code",
   "execution_count": 6,
   "metadata": {},
   "outputs": [
    {
     "data": {
      "text/plain": [
       "<AxesSubplot:xlabel='Age'>"
      ]
     },
     "execution_count": 6,
     "metadata": {},
     "output_type": "execute_result"
    },
    {
     "data": {
      "image/png": "[encoded data removed]",
      "text/plain": [
       "<Figure size 432x288 with 1 Axes>"
      ]
     },
     "metadata": {
      "needs_background": "light"
     },
     "output_type": "display_data"
    }
   ],
   "source": [
    "sns.boxplot(x=dataset['Age'])"
   ]
  },
  {
   "cell_type": "code",
   "execution_count": 7,
   "metadata": {},
   "outputs": [],
   "source": [
    "def proportionDataset(dataset):\n",
    "    target_count = dataset[\"class\"].value_counts()\n",
    "    t1 = str(round(target_count[1]*100/len(dataset),1)) + \"%\"\n",
    "    t2 = str(round(target_count[0]*100/len(dataset),1)) + \"%\"\n",
    "    print('Class 0:', target_count[0])\n",
    "    print('Class 1:', target_count[1])\n",
    "    print('Proporção:', round(target_count[1] / target_count[0], 2), ': 1')\n",
    "    plt.bar([t1, t2], target_count,color = ['#1F77B4', '#FF7F0E'])\n"
   ]
  },
  {
   "cell_type": "code",
   "execution_count": 29,
   "metadata": {},
   "outputs": [
    {
     "name": "stdout",
     "output_type": "stream",
     "text": [
      "Class 0: 184\n",
      "Class 1: 284\n",
      "Proporção: 1.54 : 1\n"
     ]
    },
    {
     "data": {
      "image/png": "[encoded data removed]",
      "text/plain": [
       "<Figure size 432x288 with 1 Axes>"
      ]
     },
     "metadata": {
      "needs_background": "light"
     },
     "output_type": "display_data"
    }
   ],
   "source": [
    "proportionDataset(dataset)\n",
    "# proportionDataset(init_dataset)"
   ]
  },
  {
   "cell_type": "code",
   "execution_count": 10,
   "metadata": {},
   "outputs": [],
   "source": [
    "def treeDecision(X_train, y_train):\n",
    "    \"\"\"\n",
    "    Função que cria um árvore de decisão e retorna o modelo treinado.\n",
    "    \"\"\"\n",
    "    model = DecisionTreeClassifier()\n",
    "    model.fit(X_train, y_train)\n",
    "    return model"
   ]
  },
  {
   "cell_type": "code",
   "execution_count": 11,
   "metadata": {},
   "outputs": [],
   "source": [
    "def RForestDecision(X_train,  y_train):\n",
    "    \"\"\"\n",
    "    Função que cria um classificador Random Forest e retorna o modelo treinado.\n",
    "    \"\"\"\n",
    "    model = RandomForestClassifier()\n",
    "    model.fit(X_train, y_train)\n",
    "    return model"
   ]
  },
  {
   "cell_type": "code",
   "execution_count": 12,
   "metadata": {},
   "outputs": [],
   "source": [
    "def KNN(X_train,  y_train):\n",
    "    \"\"\"\n",
    "    Função que cria um classificador knn e retorna o modelo treinado.\n",
    "    \"\"\"\n",
    "    model = KNeighborsClassifier()\n",
    "    model.fit(X_train, y_train)\n",
    "    return model"
   ]
  },
  {
   "cell_type": "markdown",
   "metadata": {},
   "source": [
    "Separação dos dados para treino e test"
   ]
  },
  {
   "cell_type": "code",
   "execution_count": 13,
   "metadata": {},
   "outputs": [],
   "source": [
    "X_train, X_test, y_train, y_test = train_test_split(dataset.drop([\"class\"], axis=1), dataset[\"class\"], test_size=0.3)"
   ]
  },
  {
   "cell_type": "markdown",
   "metadata": {},
   "source": [
    "#### seleção de atributos"
   ]
  },
  {
   "cell_type": "code",
   "execution_count": 14,
   "metadata": {},
   "outputs": [],
   "source": [
    "clf = DecisionTreeClassifier(max_leaf_nodes=10)\n",
    "feature_selection = RFE(clf, step=1)\n",
    "fs = feature_selection.fit(X_train, y_train)\n",
    "\n",
    "attributes_selected = []\n",
    "for index,i in enumerate(dataset.columns.drop([\"class\"])):\n",
    "    if(fs.support_[index] == False):\n",
    "        attributes_selected.append(i)\n",
    "\n",
    "dataset_selected_attributes = dataset.drop(attributes_selected, axis=1).copy()"
   ]
  },
  {
   "cell_type": "code",
   "execution_count": 15,
   "metadata": {},
   "outputs": [
    {
     "name": "stdout",
     "output_type": "stream",
     "text": [
      "Selected True, Rank: 1.000 \tColumn: Age\n",
      "Selected True, Rank: 1.000 \tColumn: Gender\n",
      "Selected True, Rank: 1.000 \tColumn: Polyuria\n",
      "Selected True, Rank: 1.000 \tColumn: Polydipsia\n",
      "Selected False, Rank: 9.000 \tColumn: sudden weight loss\n",
      "Selected False, Rank: 8.000 \tColumn: weakness\n",
      "Selected False, Rank: 7.000 \tColumn: Polyphagia\n",
      "Selected False, Rank: 6.000 \tColumn: Genital thrush\n",
      "Selected False, Rank: 4.000 \tColumn: visual blurring\n",
      "Selected False, Rank: 5.000 \tColumn: Itching\n",
      "Selected True, Rank: 1.000 \tColumn: Irritability\n",
      "Selected True, Rank: 1.000 \tColumn: delayed healing\n",
      "Selected False, Rank: 3.000 \tColumn: partial paresis\n",
      "Selected True, Rank: 1.000 \tColumn: muscle stiffness\n",
      "Selected True, Rank: 1.000 \tColumn: Alopecia\n",
      "Selected False, Rank: 2.000 \tColumn: Obesity\n"
     ]
    },
    {
     "ename": "IndexError",
     "evalue": "index 16 is out of bounds for axis 0 with size 16",
     "output_type": "error",
     "traceback": [
      "\u001b[0;31m---------------------------------------------------------------------------\u001b[0m",
      "\u001b[0;31mIndexError\u001b[0m                                Traceback (most recent call last)",
      "\u001b[1;32m/home/lucas/Aulas/IA/Projeto-Ia-3/projeto3.ipynb Cell 24\u001b[0m in \u001b[0;36m<cell line: 1>\u001b[0;34m()\u001b[0m\n\u001b[1;32m      <a href='vscode-notebook-cell:/home/lucas/Aulas/IA/Projeto-Ia-3/projeto3.ipynb#ch0000023?line=0'>1</a>\u001b[0m \u001b[39mfor\u001b[39;00m inde,i \u001b[39min\u001b[39;00m \u001b[39menumerate\u001b[39m(dataset\u001b[39m.\u001b[39mcolumns):\n\u001b[0;32m----> <a href='vscode-notebook-cell:/home/lucas/Aulas/IA/Projeto-Ia-3/projeto3.ipynb#ch0000023?line=1'>2</a>\u001b[0m     \u001b[39mprint\u001b[39m(\u001b[39m'\u001b[39m\u001b[39mSelected \u001b[39m\u001b[39m%s\u001b[39;00m\u001b[39m, Rank: \u001b[39m\u001b[39m%.3f\u001b[39;00m\u001b[39m \u001b[39m\u001b[39m\\t\u001b[39;00m\u001b[39mColumn: \u001b[39m\u001b[39m%s\u001b[39;00m\u001b[39m'\u001b[39m \u001b[39m%\u001b[39m ( fs\u001b[39m.\u001b[39;49msupport_[inde], fs\u001b[39m.\u001b[39mranking_[inde],dataset\u001b[39m.\u001b[39mcolumns[inde]))\n",
      "\u001b[0;31mIndexError\u001b[0m: index 16 is out of bounds for axis 0 with size 16"
     ]
    }
   ],
   "source": [
    "for inde,i in enumerate(dataset.columns):\n",
    "    print('Selected %s, Rank: %.3f \\tColumn: %s' % ( fs.support_[inde], fs.ranking_[inde],dataset.columns[inde]))\n"
   ]
  },
  {
   "cell_type": "code",
   "execution_count": 16,
   "metadata": {},
   "outputs": [],
   "source": [
    "X_train_select_attr, X_test_select_attr, y_train_select_attr, y_test_select_attr = train_test_split(dataset_selected_attributes.drop([\"class\"], axis=1), dataset_selected_attributes[\"class\"], test_size=0.3)\n",
    "X_train_no_pre_pros, X_test_no_pre_pros, y_train_no_pre_pros, y_test_no_pre_pros = train_test_split(cv_dataset.drop([\"class\"], axis=1), cv_dataset[\"class\"], test_size=0.3)"
   ]
  },
  {
   "cell_type": "code",
   "execution_count": 17,
   "metadata": {},
   "outputs": [],
   "source": [
    "model_TD  = treeDecision(X_train, y_train)\n",
    "model_RF  = RForestDecision(X_train, y_train)\n",
    "model_KNN = KNN(X_train, y_train)\n",
    "\n",
    "model_TD_select_attr  = treeDecision(X_train_select_attr, y_train_select_attr)\n",
    "model_RF_select_attr  = RForestDecision(X_train_select_attr, y_train_select_attr)\n",
    "model_KNN_select_attr = KNN(X_train_select_attr, y_train_select_attr)\n",
    "\n",
    "model_TD_no_pre_pros  = treeDecision(X_train_no_pre_pros, y_train_no_pre_pros)\n",
    "model_RF_no_pre_pros  = RForestDecision(X_train_no_pre_pros, y_train_no_pre_pros)\n",
    "model_KNN_no_pre_pros = KNN(X_train_no_pre_pros, y_train_no_pre_pros)"
   ]
  },
  {
   "cell_type": "code",
   "execution_count": 18,
   "metadata": {},
   "outputs": [],
   "source": [
    "TD_acc_select_attr = cross_val_score(model_TD_select_attr, X_test_select_attr, y_test_select_attr, cv=10,scoring=\"f1\")\n",
    "TD_acc = cross_val_score(model_TD, X_test, y_test, cv=10,scoring=\"f1\")\n",
    "TD_acc_no_pre_pros = cross_val_score(model_TD_no_pre_pros, X_test_no_pre_pros, y_test_no_pre_pros, cv=10,scoring=\"f1\")\n",
    "\n",
    "RF_acc_select_attr = cross_val_score(model_RF_select_attr, X_test_select_attr, y_test_select_attr, cv=10,scoring=\"f1\")\n",
    "RF_acc = cross_val_score(model_RF, X_test, y_test, cv=10,scoring=\"f1\")\n",
    "RF_acc_no_pre_pros = cross_val_score(model_RF_no_pre_pros, X_test_no_pre_pros, y_test_no_pre_pros, cv=10,scoring=\"f1\")\n",
    "\n",
    "knn_acc_select_attr = cross_val_score(model_KNN_select_attr, X_test_select_attr, y_test_select_attr, cv=10,scoring=\"f1\")\n",
    "knn_acc = cross_val_score(model_KNN, X_test, y_test, cv=10,scoring=\"f1\")\n",
    "knn_acc_no_pre_pros = cross_val_score(model_KNN_no_pre_pros, X_test_no_pre_pros, y_test_no_pre_pros, cv=10,scoring=\"f1\")"
   ]
  },
  {
   "cell_type": "code",
   "execution_count": 35,
   "metadata": {},
   "outputs": [
    {
     "name": "stdout",
     "output_type": "stream",
     "text": [
      "Comparação entre os classificadores:\n",
      "Algoritmo\t\tF1-Score\n",
      "----------------------------------------------------\n",
      "KNN:\t\t\t0.79\n",
      "Random forest:\t\t0.93\n",
      "Decision Tree:\t\t0.89\n",
      "\n",
      "\n",
      "Comparação entre os datasets utilizando KNN:\n",
      "F1-Score\tDescrição\n",
      "----------------------------------------------------\n",
      "0.80\t\tDataset com atributos selecionados.\n",
      "0.79\t\tDataset com pré-processamento sem atributos selecionados.\n",
      "0.68\t\tDataset sem pre-processamento.\n",
      "\n",
      "\n",
      "Comparação entre os datasets utilizando random forest:\n",
      "F1-Score\tDescrição\n",
      "----------------------------------------------------\n",
      "0.93\t\tDataset com atributos selecionados.\n",
      "0.91\t\tDataset com pré-processamento sem atributos selecionados.\n",
      "0.93\t\tDataset sem pre-processamento.\n",
      "\n",
      "\n",
      "Comparação entre os datasets utilizando decision tree:\n",
      "F1-Score\tDescrição\n",
      "----------------------------------------------------\n",
      "0.91\t\tDataset com atributos selecionados.\n",
      "0.88\t\tDataset com pré-processamento sem atributos selecionados.\n",
      "0.89\t\tDataset sem pre-processamento.\n"
     ]
    }
   ],
   "source": [
    "print(\"Comparação entre os classificadores:\")\n",
    "print(\"Algoritmo\\t\\tF1-Score\")\n",
    "print(\"----------------------------------------------------\")\n",
    "print(\"%s:\\t\\t\\t%.2f\" % (\"KNN\", knn_acc.mean()))\n",
    "print(\"%s:\\t\\t%.2f\" % (\"Random forest\", RF_acc_no_pre_pros.mean()))\n",
    "print(\"%s:\\t\\t%.2f\" % (\"Decision Tree\", TD_acc_no_pre_pros.mean()))\n",
    "\n",
    "print(\"\\n\\nComparação entre os datasets utilizando KNN:\")\n",
    "print(\"F1-Score\\tDescrição\")\n",
    "print(\"----------------------------------------------------\")\n",
    "print(\"%.2f\\t\\t%s\" % (knn_acc_select_attr.mean(),\"Dataset com atributos selecionados.\"))\n",
    "print(\"%.2f\\t\\t%s\" % (knn_acc.mean(),\"Dataset com pré-processamento sem atributos selecionados.\"))\n",
    "print(\"%.2f\\t\\t%s\" % (knn_acc_no_pre_pros.mean(),\"Dataset sem pre-processamento.\"))\n",
    "\n",
    "print(\"\\n\\nComparação entre os datasets utilizando random forest:\")\n",
    "print(\"F1-Score\\tDescrição\")\n",
    "print(\"----------------------------------------------------\")\n",
    "print(\"%.2f\\t\\t%s\" % (RF_acc_select_attr.mean(),\"Dataset com atributos selecionados.\"))\n",
    "print(\"%.2f\\t\\t%s\" % (RF_acc.mean(),\"Dataset com pré-processamento sem atributos selecionados.\"))\n",
    "print(\"%.2f\\t\\t%s\" % (RF_acc_no_pre_pros.mean(),\"Dataset sem pre-processamento.\"))\n",
    "\n",
    "print(\"\\n\\nComparação entre os datasets utilizando decision tree:\")\n",
    "print(\"F1-Score\\tDescrição\")\n",
    "print(\"----------------------------------------------------\")\n",
    "print(\"%.2f\\t\\t%s\" % (TD_acc_select_attr.mean(),\"Dataset com atributos selecionados.\"))\n",
    "print(\"%.2f\\t\\t%s\" % (TD_acc.mean() ,\"Dataset com pré-processamento sem atributos selecionados.\"))\n",
    "print(\"%.2f\\t\\t%s\" % (TD_acc_no_pre_pros.mean(),\"Dataset sem pre-processamento.\"))"
   ]
  },
  {
   "cell_type": "code",
   "execution_count": 36,
   "metadata": {},
   "outputs": [
    {
     "name": "stdout",
     "output_type": "stream",
     "text": [
      "FriedmanchisquareResult(statistic=7.400000000000006, pvalue=0.02472352647033933)\n",
      "FriedmanchisquareResult(statistic=0.2285714285714318, pvalue=0.8920030614530929)\n",
      "FriedmanchisquareResult(statistic=2.0000000000000093, pvalue=0.3678794411714408)\n"
     ]
    }
   ],
   "source": [
    "print(stats.friedmanchisquare(knn_acc_select_attr, knn_acc, knn_acc_no_pre_pros))\n",
    "print(stats.friedmanchisquare(RF_acc_select_attr, RF_acc, RF_acc_no_pre_pros))\n",
    "print(stats.friedmanchisquare(TD_acc_select_attr, TD_acc, TD_acc_no_pre_pros))"
   ]
  },
  {
   "cell_type": "code",
   "execution_count": 37,
   "metadata": {},
   "outputs": [
    {
     "name": "stdout",
     "output_type": "stream",
     "text": [
      "          0         1         2\n",
      "0  1.000000  0.900000  0.065303\n",
      "1  0.900000  1.000000  0.037036\n",
      "2  0.065303  0.037036  1.000000\n"
     ]
    }
   ],
   "source": [
    "print(sp.posthoc_nemenyi_friedman(np.array([knn_acc_select_attr, knn_acc, knn_acc_no_pre_pros]).T))"
   ]
  },
  {
   "cell_type": "code",
   "execution_count": 38,
   "metadata": {},
   "outputs": [
    {
     "data": {
      "text/plain": [
       "FriedmanchisquareResult(statistic=14.176470588235308, pvalue=0.0008348693652813493)"
      ]
     },
     "execution_count": 38,
     "metadata": {},
     "output_type": "execute_result"
    }
   ],
   "source": [
    "stats.friedmanchisquare(knn_acc, RF_acc_no_pre_pros, TD_acc_no_pre_pros)"
   ]
  },
  {
   "cell_type": "code",
   "execution_count": 39,
   "metadata": {},
   "outputs": [
    {
     "name": "stdout",
     "output_type": "stream",
     "text": [
      "          0         1         2\n",
      "0  1.000000  0.001533  0.138497\n",
      "1  0.001533  1.000000  0.261172\n",
      "2  0.138497  0.261172  1.000000\n"
     ]
    }
   ],
   "source": [
    "print(sp.posthoc_nemenyi_friedman(np.array([knn_acc, RF_acc_no_pre_pros, TD_acc_no_pre_pros]).T))"
   ]
  },
  {
   "cell_type": "markdown",
   "metadata": {},
   "source": [
    "pvalue < 0.05 = diferença significativa"
   ]
  }
 ],
 "metadata": {
  "interpreter": {
   "hash": "e7370f93d1d0cde622a1f8e1c04877d8463912d04d973331ad4851f04de6915a"
  },
  "kernelspec": {
   "display_name": "Python 3.10.2 64-bit",
   "language": "python",
   "name": "python3"
  },
  "language_info": {
   "codemirror_mode": {
    "name": "ipython",
    "version": 3
   },
   "file_extension": ".py",
   "mimetype": "text/x-python",
   "name": "python",
   "nbconvert_exporter": "python",
   "pygments_lexer": "ipython3",
   "version": "3.10.5"
  },
  "orig_nbformat": 4
 },
 "nbformat": 4,
 "nbformat_minor": 2
}
