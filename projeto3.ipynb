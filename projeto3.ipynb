{
 "cells": [
  {
   "cell_type": "markdown",
   "metadata": {},
   "source": [
    "Terceiro projeto de Inteligência artificial\n",
    "\n",
    "Alunos: Lucas Garavaglia, Milena Santos\n",
    "\n",
    "Link: https://archive.ics.uci.edu/ml/datasets/Early+stage+diabetes+risk+prediction+dataset."
   ]
  },
  {
   "cell_type": "markdown",
   "metadata": {},
   "source": [
    "## imports necessários"
   ]
  },
  {
   "cell_type": "code",
   "execution_count": 190,
   "metadata": {},
   "outputs": [],
   "source": [
    "import pandas as pd\n",
    "import matplotlib.pyplot as plt\n",
    "\n",
    "from sklearn.tree import DecisionTreeClassifier\n",
    "from sklearn.ensemble import RandomForestClassifier\n",
    "from sklearn.neighbors import KNeighborsClassifier\n",
    "from sklearn.model_selection import train_test_split\n",
    "\n",
    "from sklearn.preprocessing import MinMaxScaler\n",
    "from sklearn.metrics import accuracy_score, confusion_matrix\n",
    "import seaborn as sns"
   ]
  },
  {
   "cell_type": "markdown",
   "metadata": {},
   "source": [
    "#### Carregamento do Dataset"
   ]
  },
  {
   "cell_type": "code",
   "execution_count": 191,
   "metadata": {},
   "outputs": [],
   "source": [
    "init_dataset = pd.read_csv(\"https://archive.ics.uci.edu/ml/machine-learning-databases/00529/diabetes_data_upload.csv\")\n",
    "# dataset.info()"
   ]
  },
  {
   "cell_type": "markdown",
   "metadata": {},
   "source": [
    "Identificação de outliers"
   ]
  },
  {
   "cell_type": "markdown",
   "metadata": {},
   "source": [
    "#### Pré processamento"
   ]
  },
  {
   "cell_type": "code",
   "execution_count": 192,
   "metadata": {},
   "outputs": [
    {
     "data": {
      "text/plain": [
       "<AxesSubplot:xlabel='Age'>"
      ]
     },
     "execution_count": 192,
     "metadata": {},
     "output_type": "execute_result"
    },
    {
     "data": {
      "image/png": "[encoded data removed]",
      "text/plain": [
       "<Figure size 432x288 with 1 Axes>"
      ]
     },
     "metadata": {
      "needs_background": "light"
     },
     "output_type": "display_data"
    }
   ],
   "source": [
    "sns.boxplot(x=init_dataset['Age'])"
   ]
  },
  {
   "cell_type": "markdown",
   "metadata": {},
   "source": [
    "Remoção de valores faltantes e dados duplicados."
   ]
  },
  {
   "cell_type": "code",
   "execution_count": 194,
   "metadata": {},
   "outputs": [],
   "source": [
    "dataset = init_dataset.dropna() #Fazendo uma observação do dataset foi notado que não \n",
    "                                #existem valores nulos, portanto esse método não esta fazendo nada.\n",
    "                        \n",
    "# dataset = dataset.drop_duplicates() \n",
    "#Após a remoção dos valores duplicados foi notado que a acurácia dos modelos cairam,\n",
    "#plotando um gráfico de proporção foi notado também que os dados estão desbalanceados,\n",
    "#portanto fio optado por não remover os duplicados a fim de manter o dataset balanceado.\n",
    "\n",
    "indxs = []\n",
    "for index,x in enumerate(dataset['Age']):\n",
    "    if(x < 20 or x > 65):\n",
    "        indxs.append(index)\n",
    "        \n",
    "dataset.drop(indxs,axis=0,inplace=True)\n",
    "\n",
    "dataset.reset_index(inplace=True, drop=True)"
   ]
  },
  {
   "cell_type": "code",
   "execution_count": 128,
   "metadata": {},
   "outputs": [],
   "source": [
    "def proportionDataset(dataset):\n",
    "    target_count = dataset[\"class\"].value_counts()\n",
    "    print('Class 0:', target_count[0])\n",
    "    print('Class 1:', target_count[1])\n",
    "    print('Proporção:', round(target_count[1] / target_count[0], 2), ': 1')\n",
    "    target_count.plot(kind='bar', title='Count (target)',color = ['#1F77B4', '#FF7F0E']);\n"
   ]
  },
  {
   "cell_type": "code",
   "execution_count": null,
   "metadata": {},
   "outputs": [],
   "source": [
    "# proportionDataset(dataset)\n",
    "# proportionDataset(init_dataset)"
   ]
  },
  {
   "cell_type": "markdown",
   "metadata": {},
   "source": [
    "#### Foi necessário a conversão dos dados para boolean poís a biblioteca não aceita tipo str"
   ]
  },
  {
   "cell_type": "code",
   "execution_count": 195,
   "metadata": {},
   "outputs": [],
   "source": [
    "dataset['class'] = [1 if x == 'Positive' else 0 for x in dataset['class']]\n",
    "dataset['Gender'] = [1 if x == 'Male' else 0 for x in dataset['Gender']]\n",
    "dataset['Polyuria'] = [1 if x == 'Yes' else 0 for x in dataset['Polyuria']]\n",
    "dataset['Polydipsia'] = [1 if x == 'Yes' else 0 for x in dataset['Polydipsia']]\n",
    "dataset['weakness'] = [1 if x == 'Yes' else 0 for x in dataset['weakness']]\n",
    "dataset['Polyphagia'] = [1 if x == 'Yes' else 0 for x in dataset['Polyphagia']]\n",
    "dataset['Itching'] = [1 if x == 'Yes' else 0 for x in dataset['Itching']]\n",
    "dataset['Irritability'] = [1 if x == 'Yes' else 0 for x in dataset['Irritability']]\n",
    "dataset['Alopecia'] = [1 if x == 'Yes' else 0 for x in dataset['Alopecia']]\n",
    "dataset['Obesity'] = [1 if x == 'Yes' else 0 for x in dataset['Obesity']]\n",
    "dataset['delayed healing'] = [1 if x == 'Yes' else 0 for x in dataset['delayed healing']]\n",
    "dataset['partial paresis'] = [1 if x == 'Yes' else 0 for x in dataset['partial paresis']]\n",
    "dataset['muscle stiffness'] = [1 if x == 'Yes' else 0 for x in dataset['muscle stiffness']]\n",
    "dataset['Genital thrush'] = [1 if x == 'Yes' else 0 for x in dataset['Genital thrush']]\n",
    "dataset['visual blurring'] = [1 if x == 'Yes' else 0 for x in dataset['visual blurring']]\n",
    "dataset['sudden weight loss'] = [1 if x == 'Yes' else 0 for x in dataset['sudden weight loss']]"
   ]
  },
  {
   "cell_type": "code",
   "execution_count": 196,
   "metadata": {},
   "outputs": [],
   "source": [
    "def treeDecision(X_train, y_train):\n",
    "    \"\"\"\n",
    "    Função que cria um árvore de decisão e retorna o modelo treinado.\n",
    "    \"\"\"\n",
    "    model = DecisionTreeClassifier()\n",
    "    model.fit(X_train, y_train)\n",
    "    return model"
   ]
  },
  {
   "cell_type": "code",
   "execution_count": 197,
   "metadata": {},
   "outputs": [],
   "source": [
    "def RForestDecision(X_train,  y_train):\n",
    "    \"\"\"\n",
    "    Função que cria um classificador Random Florest e retorna o modelo treinado.\n",
    "    \"\"\"\n",
    "    model = RandomForestClassifier()\n",
    "    model.fit(X_train, y_train)\n",
    "    return model"
   ]
  },
  {
   "cell_type": "code",
   "execution_count": 198,
   "metadata": {},
   "outputs": [],
   "source": [
    "def KNN(X_train,  y_train):\n",
    "    \"\"\"\n",
    "    Função que cria um classificador knn e retorna o modelo treinado.\n",
    "    \"\"\"\n",
    "    model = KNeighborsClassifier()\n",
    "    model.fit(X_train, y_train)\n",
    "    return model"
   ]
  },
  {
   "cell_type": "markdown",
   "metadata": {},
   "source": [
    "Separação dos dados para treino e test"
   ]
  },
  {
   "cell_type": "code",
   "execution_count": 199,
   "metadata": {},
   "outputs": [],
   "source": [
    "X_train, X_test, y_train, y_test = train_test_split(dataset.drop([\"class\"], axis=1), dataset[\"class\"], test_size=0.3)"
   ]
  },
  {
   "cell_type": "code",
   "execution_count": 203,
   "metadata": {},
   "outputs": [],
   "source": [
    "model_TD = treeDecision(X_train, y_train )\n",
    "model_RF = RForestDecision(X_train, y_train)\n",
    "model_KNN = KNN(X_train, y_train)"
   ]
  },
  {
   "cell_type": "code",
   "execution_count": 209,
   "metadata": {},
   "outputs": [
    {
     "name": "stdout",
     "output_type": "stream",
     "text": [
      "92.90780141843972\n",
      "97.87234042553192\n",
      "82.97872340425532\n"
     ]
    }
   ],
   "source": [
    "print(accuracy_score(y_test, model_TD.predict(X_test))*100)\n",
    "print(accuracy_score(y_test, model_RF.predict(X_test))*100)\n",
    "print(accuracy_score(y_test, model_KNN.predict(X_test))*100)"
   ]
  },
  {
   "cell_type": "markdown",
   "metadata": {},
   "source": [
    "Matriz de confusão"
   ]
  },
  {
   "cell_type": "code",
   "execution_count": 210,
   "metadata": {},
   "outputs": [],
   "source": [
    "def confusionMatrix(y_test,y_pred):\n",
    "    cm = confusion_matrix(y_true=y_test, y_pred=y_pred)\n",
    "    print('Confusion matrix:\\n', cm)\n",
    "    return cm\n",
    "\n",
    "def showConfusionMatrix(y_test,y_pred):\n",
    "    conf_mat = confusionMatrix(y_test,y_pred)\n",
    "    fig = plt.figure()\n",
    "    ax = fig.add_subplot(111)\n",
    "    cax = ax.matshow(conf_mat, cmap=plt.cm.Blues)\n",
    "    fig.colorbar(cax)\n",
    "    plt.xlabel('Predicted')\n",
    "    plt.ylabel('Expected')\n",
    "    plt.show()"
   ]
  },
  {
   "cell_type": "code",
   "execution_count": 211,
   "metadata": {},
   "outputs": [
    {
     "name": "stdout",
     "output_type": "stream",
     "text": [
      "Confusion matrix:\n",
      " [[56  2]\n",
      " [ 1 82]]\n"
     ]
    },
    {
     "data": {
      "image/png": "[encoded data removed]",
      "text/plain": [
       "<Figure size 432x288 with 2 Axes>"
      ]
     },
     "metadata": {
      "needs_background": "light"
     },
     "output_type": "display_data"
    },
    {
     "name": "stdout",
     "output_type": "stream",
     "text": [
      "Confusion matrix:\n",
      " [[53  5]\n",
      " [ 5 78]]\n"
     ]
    },
    {
     "data": {
      "image/png": "[encoded data removed]",
      "text/plain": [
       "<Figure size 432x288 with 2 Axes>"
      ]
     },
     "metadata": {
      "needs_background": "light"
     },
     "output_type": "display_data"
    },
    {
     "name": "stdout",
     "output_type": "stream",
     "text": [
      "Confusion matrix:\n",
      " [[54  4]\n",
      " [20 63]]\n"
     ]
    },
    {
     "data": {
      "image/png": "[encoded data removed]",
      "text/plain": [
       "<Figure size 432x288 with 2 Axes>"
      ]
     },
     "metadata": {
      "needs_background": "light"
     },
     "output_type": "display_data"
    }
   ],
   "source": [
    "showConfusionMatrix(y_test,model_RF.predict(X_test))\n",
    "showConfusionMatrix(y_test,model_TD.predict(X_test))\n",
    "showConfusionMatrix(y_test,model_KNN.predict(X_test))"
   ]
  }
 ],
 "metadata": {
  "interpreter": {
   "hash": "e7370f93d1d0cde622a1f8e1c04877d8463912d04d973331ad4851f04de6915a"
  },
  "kernelspec": {
   "display_name": "Python 3.10.2 64-bit",
   "language": "python",
   "name": "python3"
  },
  "language_info": {
   "codemirror_mode": {
    "name": "ipython",
    "version": 3
   },
   "file_extension": ".py",
   "mimetype": "text/x-python",
   "name": "python",
   "nbconvert_exporter": "python",
   "pygments_lexer": "ipython3",
   "version": "3.10.5"
  },
  "orig_nbformat": 4
 },
 "nbformat": 4,
 "nbformat_minor": 2
}
